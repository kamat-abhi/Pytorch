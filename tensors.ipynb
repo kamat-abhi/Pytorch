{
 "cells": [
  {
   "cell_type": "code",
   "execution_count": 2,
   "id": "468a0223",
   "metadata": {},
   "outputs": [
    {
     "name": "stdout",
     "output_type": "stream",
     "text": [
      "2.8.0+cpu\n"
     ]
    }
   ],
   "source": [
    "import torch\n",
    "print(torch.__version__)"
   ]
  },
  {
   "cell_type": "code",
   "execution_count": 3,
   "id": "7bc5fe5d",
   "metadata": {},
   "outputs": [
    {
     "name": "stdout",
     "output_type": "stream",
     "text": [
      "GPU not available\n"
     ]
    }
   ],
   "source": [
    "if torch.cuda.is_available():\n",
    "    print(\"GPU is available\")\n",
    "    print(f\"Using GPU: {torch.cuda.get_device_name(0)}\")\n",
    "else:\n",
    "    print(\"GPU not available\")\n",
    "    "
   ]
  },
  {
   "cell_type": "markdown",
   "id": "69f29c10",
   "metadata": {},
   "source": [
    "## Creating Tensor"
   ]
  },
  {
   "cell_type": "code",
   "execution_count": 4,
   "id": "570731ea",
   "metadata": {},
   "outputs": [],
   "source": [
    "# using empty\n",
    "a = torch.empty(2,3) # it allocated memory but did not initialize it"
   ]
  },
  {
   "cell_type": "code",
   "execution_count": 5,
   "id": "65e57fcc",
   "metadata": {},
   "outputs": [
    {
     "data": {
      "text/plain": [
       "torch.Tensor"
      ]
     },
     "execution_count": 5,
     "metadata": {},
     "output_type": "execute_result"
    }
   ],
   "source": [
    "# check type\n",
    "type(a)"
   ]
  },
  {
   "cell_type": "code",
   "execution_count": 6,
   "id": "ec4ab242",
   "metadata": {},
   "outputs": [
    {
     "data": {
      "text/plain": [
       "tensor([[0., 0., 0.],\n",
       "        [0., 0., 0.]])"
      ]
     },
     "execution_count": 6,
     "metadata": {},
     "output_type": "execute_result"
    }
   ],
   "source": [
    "# using zero\n",
    "torch.zeros(2,3)"
   ]
  },
  {
   "cell_type": "code",
   "execution_count": 7,
   "id": "6a415931",
   "metadata": {},
   "outputs": [
    {
     "data": {
      "text/plain": [
       "tensor([[1., 1., 1.],\n",
       "        [1., 1., 1.]])"
      ]
     },
     "execution_count": 7,
     "metadata": {},
     "output_type": "execute_result"
    }
   ],
   "source": [
    "torch.ones(2,3)"
   ]
  },
  {
   "cell_type": "code",
   "execution_count": 8,
   "id": "69987b20",
   "metadata": {},
   "outputs": [
    {
     "data": {
      "text/plain": [
       "tensor([[0.6355, 0.9726, 0.4865],\n",
       "        [0.6945, 0.7411, 0.1040]])"
      ]
     },
     "execution_count": 8,
     "metadata": {},
     "output_type": "execute_result"
    }
   ],
   "source": [
    "torch.rand(2,3)"
   ]
  },
  {
   "cell_type": "code",
   "execution_count": 9,
   "id": "196c57cb",
   "metadata": {},
   "outputs": [
    {
     "data": {
      "text/plain": [
       "tensor([[0.2343, 0.7740, 0.5844],\n",
       "        [0.9788, 0.3144, 0.8882]])"
      ]
     },
     "execution_count": 9,
     "metadata": {},
     "output_type": "execute_result"
    }
   ],
   "source": [
    "torch.rand(2,3)"
   ]
  },
  {
   "cell_type": "code",
   "execution_count": 10,
   "id": "50c22b78",
   "metadata": {},
   "outputs": [
    {
     "data": {
      "text/plain": [
       "tensor([[0.1980, 0.4503, 0.0909],\n",
       "        [0.8872, 0.2894, 0.0186]])"
      ]
     },
     "execution_count": 10,
     "metadata": {},
     "output_type": "execute_result"
    }
   ],
   "source": [
    "# if we want reproducibly \n",
    "torch.manual_seed(101)\n",
    "torch.rand(2,3)"
   ]
  },
  {
   "cell_type": "code",
   "execution_count": 11,
   "id": "30bb8512",
   "metadata": {},
   "outputs": [
    {
     "data": {
      "text/plain": [
       "tensor([2.5000, 0.1000])"
      ]
     },
     "execution_count": 11,
     "metadata": {},
     "output_type": "execute_result"
    }
   ],
   "source": [
    "# using tensor\n",
    "torch.tensor([2.5, 0.1])\n"
   ]
  },
  {
   "cell_type": "code",
   "execution_count": 12,
   "id": "55e5faf6",
   "metadata": {},
   "outputs": [
    {
     "name": "stdout",
     "output_type": "stream",
     "text": [
      "using arange -> tensor([0, 2, 4, 6, 8])\n",
      "using linspace -> tensor([ 0.0000,  2.5000,  5.0000,  7.5000, 10.0000])\n"
     ]
    }
   ],
   "source": [
    "# other ways\n",
    "\n",
    "# arange\n",
    "print(\"using arange ->\", torch.arange(0, 10, 2))\n",
    "\n",
    "#linspace\n",
    "print(\"using linspace ->\", torch.linspace(0, 10, 5))\n"
   ]
  },
  {
   "cell_type": "code",
   "execution_count": 13,
   "id": "8dbc5c9d",
   "metadata": {},
   "outputs": [
    {
     "data": {
      "text/plain": [
       "(tensor(8), 0, torch.Size([]), torch.Size([]))"
      ]
     },
     "execution_count": 13,
     "metadata": {},
     "output_type": "execute_result"
    }
   ],
   "source": [
    "scaler = torch.tensor(8)\n",
    "scaler, scaler.ndim, scaler.shape, scaler.shape"
   ]
  },
  {
   "cell_type": "code",
   "execution_count": 14,
   "id": "dac1c9ab",
   "metadata": {},
   "outputs": [
    {
     "data": {
      "text/plain": [
       "tensor([2, 4])"
      ]
     },
     "execution_count": 14,
     "metadata": {},
     "output_type": "execute_result"
    }
   ],
   "source": [
    "matrix = torch.tensor([2, 4])\n",
    "matrix\n"
   ]
  },
  {
   "cell_type": "code",
   "execution_count": 15,
   "id": "da5ab25b",
   "metadata": {},
   "outputs": [],
   "source": [
    "tensor = torch.tensor([[1,2,3],\n",
    "                          [4,5,6],\n",
    "                          [7,8,9]])"
   ]
  },
  {
   "cell_type": "code",
   "execution_count": 16,
   "id": "f2ddb43e",
   "metadata": {},
   "outputs": [
    {
     "data": {
      "text/plain": [
       "(tensor([[1, 2, 3],\n",
       "         [4, 5, 6],\n",
       "         [7, 8, 9]]),\n",
       " torch.Size([3, 3]),\n",
       " 2)"
      ]
     },
     "execution_count": 16,
     "metadata": {},
     "output_type": "execute_result"
    }
   ],
   "source": [
    "tensor, tensor.shape, tensor.ndim"
   ]
  },
  {
   "cell_type": "code",
   "execution_count": 17,
   "id": "a9c63e47",
   "metadata": {},
   "outputs": [],
   "source": [
    "rnadom_tensor = torch.rand(3,4)\n"
   ]
  },
  {
   "cell_type": "code",
   "execution_count": 18,
   "id": "1b587c47",
   "metadata": {},
   "outputs": [
    {
     "data": {
      "text/plain": [
       "(tensor([[0.9095, 0.3406, 0.4309, 0.7324],\n",
       "         [0.4776, 0.0716, 0.5834, 0.7521],\n",
       "         [0.7649, 0.1443, 0.7152, 0.3953]]),\n",
       " torch.Size([3, 4]),\n",
       " 2)"
      ]
     },
     "execution_count": 18,
     "metadata": {},
     "output_type": "execute_result"
    }
   ],
   "source": [
    "rnadom_tensor, rnadom_tensor.shape, rnadom_tensor.ndim"
   ]
  },
  {
   "cell_type": "code",
   "execution_count": 19,
   "id": "3e4747c9",
   "metadata": {},
   "outputs": [],
   "source": [
    "tensor = torch.tensor([[[3,4,5,6,7,8]]])"
   ]
  },
  {
   "cell_type": "code",
   "execution_count": 20,
   "id": "74f5e3c3",
   "metadata": {},
   "outputs": [
    {
     "data": {
      "text/plain": [
       "(3, torch.Size([1, 1, 6]), tensor([[[3, 4, 5, 6, 7, 8]]]))"
      ]
     },
     "execution_count": 20,
     "metadata": {},
     "output_type": "execute_result"
    }
   ],
   "source": [
    "tensor.ndim, tensor.shape, tensor"
   ]
  },
  {
   "cell_type": "code",
   "execution_count": 21,
   "id": "d636817a",
   "metadata": {},
   "outputs": [
    {
     "data": {
      "text/plain": [
       "tensor([[[0.6244, 0.3684, 0.8823, 0.3746],\n",
       "         [0.1458, 0.3671, 0.5645, 0.5272],\n",
       "         [0.1141, 0.0992, 0.1637, 0.7688]]])"
      ]
     },
     "execution_count": 21,
     "metadata": {},
     "output_type": "execute_result"
    }
   ],
   "source": [
    "tensor2 = torch.rand(1,3,4)\n",
    "tensor2"
   ]
  },
  {
   "cell_type": "code",
   "execution_count": 22,
   "id": "f0a5911b",
   "metadata": {},
   "outputs": [
    {
     "data": {
      "text/plain": [
       "(tensor([[[[[0.4825, 0.8019, 0.3917, 0.3275],\n",
       "            [0.5084, 0.3454, 0.6221, 0.5695],\n",
       "            [0.7171, 0.2488, 0.4384, 0.8215]]],\n",
       " \n",
       " \n",
       "          [[[0.5741, 0.7075, 0.4120, 0.8646],\n",
       "            [0.2945, 0.6296, 0.8637, 0.4373],\n",
       "            [0.5454, 0.2737, 0.2903, 0.3664]]]]]),\n",
       " 5)"
      ]
     },
     "execution_count": 22,
     "metadata": {},
     "output_type": "execute_result"
    }
   ],
   "source": [
    "torch3 = torch.rand(1,2,1,3,4)\n",
    "torch3, torch3.ndim"
   ]
  },
  {
   "cell_type": "markdown",
   "id": "dd7b636c",
   "metadata": {},
   "source": [
    "**torch.full**"
   ]
  },
  {
   "cell_type": "code",
   "execution_count": 23,
   "id": "da4a1311",
   "metadata": {},
   "outputs": [
    {
     "data": {
      "text/plain": [
       "tensor([[10, 10, 10],\n",
       "        [10, 10, 10],\n",
       "        [10, 10, 10],\n",
       "        [10, 10, 10],\n",
       "        [10, 10, 10]])"
      ]
     },
     "execution_count": 23,
     "metadata": {},
     "output_type": "execute_result"
    }
   ],
   "source": [
    "full_tensor = torch.full((5,3),10., dtype=int)\n",
    "full_tensor"
   ]
  },
  {
   "cell_type": "markdown",
   "id": "62327c63",
   "metadata": {},
   "source": [
    "**6. Tensor datatypes**"
   ]
  },
  {
   "cell_type": "code",
   "execution_count": 24,
   "id": "a1a2d78e",
   "metadata": {},
   "outputs": [
    {
     "data": {
      "text/plain": [
       "torch.int64"
      ]
     },
     "execution_count": 24,
     "metadata": {},
     "output_type": "execute_result"
    }
   ],
   "source": [
    "full_tensor.dtype"
   ]
  },
  {
   "cell_type": "code",
   "execution_count": 25,
   "id": "bf659bef",
   "metadata": {},
   "outputs": [
    {
     "data": {
      "text/plain": [
       "(tensor([1, 2, 3, 4, 5, 6, 7, 8, 9]), torch.int64)"
      ]
     },
     "execution_count": 25,
     "metadata": {},
     "output_type": "execute_result"
    }
   ],
   "source": [
    "x = torch.arange(1, 10)\n",
    "x, x.dtype"
   ]
  },
  {
   "cell_type": "code",
   "execution_count": 26,
   "id": "fa4fa42d",
   "metadata": {},
   "outputs": [
    {
     "data": {
      "text/plain": [
       "(tensor([1., 2., 3., 4., 5., 6., 7., 8., 9.], dtype=torch.float64),\n",
       " torch.float64)"
      ]
     },
     "execution_count": 26,
     "metadata": {},
     "output_type": "execute_result"
    }
   ],
   "source": [
    "x = x.type(torch.float64)\n",
    "x, x.dtype"
   ]
  },
  {
   "cell_type": "code",
   "execution_count": 27,
   "id": "cf0571ff",
   "metadata": {},
   "outputs": [
    {
     "data": {
      "text/plain": [
       "device(type='cpu')"
      ]
     },
     "execution_count": 27,
     "metadata": {},
     "output_type": "execute_result"
    }
   ],
   "source": [
    "x.device"
   ]
  },
  {
   "cell_type": "markdown",
   "id": "a151116d",
   "metadata": {},
   "source": [
    "**opretaion on tensors**"
   ]
  },
  {
   "cell_type": "code",
   "execution_count": 28,
   "id": "4405c0ae",
   "metadata": {},
   "outputs": [],
   "source": [
    "y = x+ 10"
   ]
  },
  {
   "cell_type": "code",
   "execution_count": 29,
   "id": "41e3f128",
   "metadata": {},
   "outputs": [
    {
     "data": {
      "text/plain": [
       "tensor([12., 14., 16., 18., 20., 22., 24., 26., 28.], dtype=torch.float64)"
      ]
     },
     "execution_count": 29,
     "metadata": {},
     "output_type": "execute_result"
    }
   ],
   "source": [
    "y+x"
   ]
  },
  {
   "cell_type": "code",
   "execution_count": 30,
   "id": "7b565827",
   "metadata": {},
   "outputs": [
    {
     "data": {
      "text/plain": [
       "tensor([10., 10., 10., 10., 10., 10., 10., 10., 10.], dtype=torch.float64)"
      ]
     },
     "execution_count": 30,
     "metadata": {},
     "output_type": "execute_result"
    }
   ],
   "source": [
    "y-x"
   ]
  },
  {
   "cell_type": "code",
   "execution_count": 31,
   "id": "ae49ebe8",
   "metadata": {},
   "outputs": [
    {
     "data": {
      "text/plain": [
       "tensor([ 11.,  24.,  39.,  56.,  75.,  96., 119., 144., 171.],\n",
       "       dtype=torch.float64)"
      ]
     },
     "execution_count": 31,
     "metadata": {},
     "output_type": "execute_result"
    }
   ],
   "source": [
    "y*x"
   ]
  },
  {
   "cell_type": "code",
   "execution_count": 32,
   "id": "bac52834",
   "metadata": {},
   "outputs": [
    {
     "data": {
      "text/plain": [
       "(tensor([[1, 2, 3],\n",
       "         [4, 5, 6],\n",
       "         [7, 8, 9]]),\n",
       " tensor([[1, 2, 3],\n",
       "         [4, 5, 6],\n",
       "         [7, 8, 9]]),\n",
       " torch.Size([3, 3]),\n",
       " torch.Size([3, 3]))"
      ]
     },
     "execution_count": 32,
     "metadata": {},
     "output_type": "execute_result"
    }
   ],
   "source": [
    "matrixA = torch.tensor([[1,2,3],\n",
    "                       [4,5,6],\n",
    "                       [7,8,9]])\n",
    "matrixB = torch.tensor([[1,2,3],\n",
    "                       [4,5,6],\n",
    "                       [7,8,9]])\n",
    "matrixA, matrixB , matrixA.shape, matrixB.shape"
   ]
  },
  {
   "cell_type": "code",
   "execution_count": 33,
   "id": "9068cc9f",
   "metadata": {},
   "outputs": [
    {
     "data": {
      "text/plain": [
       "tensor([[ 1,  4,  9],\n",
       "        [16, 25, 36],\n",
       "        [49, 64, 81]])"
      ]
     },
     "execution_count": 33,
     "metadata": {},
     "output_type": "execute_result"
    }
   ],
   "source": [
    "matrixA * matrixB"
   ]
  },
  {
   "cell_type": "code",
   "execution_count": 34,
   "id": "c1e9c930",
   "metadata": {},
   "outputs": [
    {
     "data": {
      "text/plain": [
       "tensor([[ 30,  36,  42],\n",
       "        [ 66,  81,  96],\n",
       "        [102, 126, 150]])"
      ]
     },
     "execution_count": 34,
     "metadata": {},
     "output_type": "execute_result"
    }
   ],
   "source": [
    "torch.matmul(matrixA, matrixB)"
   ]
  },
  {
   "cell_type": "code",
   "execution_count": 35,
   "id": "8d2df50e",
   "metadata": {},
   "outputs": [
    {
     "data": {
      "text/plain": [
       "tensor([[ 30,  36,  42],\n",
       "        [ 66,  81,  96],\n",
       "        [102, 126, 150]])"
      ]
     },
     "execution_count": 35,
     "metadata": {},
     "output_type": "execute_result"
    }
   ],
   "source": [
    "matrixA @ matrixB"
   ]
  },
  {
   "cell_type": "code",
   "execution_count": 49,
   "id": "2d8be5a2",
   "metadata": {},
   "outputs": [
    {
     "data": {
      "text/plain": [
       "torch.Size([3, 3])"
      ]
     },
     "execution_count": 49,
     "metadata": {},
     "output_type": "execute_result"
    }
   ],
   "source": [
    "matrixB.shape"
   ]
  },
  {
   "cell_type": "code",
   "execution_count": 48,
   "id": "cdbef574",
   "metadata": {},
   "outputs": [
    {
     "data": {
      "text/plain": [
       "tensor([[1, 4, 7],\n",
       "        [2, 5, 8],\n",
       "        [3, 6, 9]])"
      ]
     },
     "execution_count": 48,
     "metadata": {},
     "output_type": "execute_result"
    }
   ],
   "source": [
    "matrixB.transpose(0,1)"
   ]
  },
  {
   "cell_type": "code",
   "execution_count": 40,
   "id": "ce643ce2",
   "metadata": {},
   "outputs": [
    {
     "data": {
      "text/plain": [
       "tensor([[1, 2, 3],\n",
       "        [4, 5, 6],\n",
       "        [7, 8, 9]])"
      ]
     },
     "execution_count": 40,
     "metadata": {},
     "output_type": "execute_result"
    }
   ],
   "source": [
    "matrixB"
   ]
  },
  {
   "cell_type": "markdown",
   "id": "61e64e2a",
   "metadata": {},
   "source": [
    "**reshaping, stacking, sqeezing, unsqeeze, permute**"
   ]
  },
  {
   "cell_type": "code",
   "execution_count": 51,
   "id": "99aadd71",
   "metadata": {},
   "outputs": [
    {
     "data": {
      "text/plain": [
       "tensor([[1],\n",
       "        [2],\n",
       "        [3],\n",
       "        [4],\n",
       "        [5],\n",
       "        [6],\n",
       "        [7],\n",
       "        [8],\n",
       "        [9]])"
      ]
     },
     "execution_count": 51,
     "metadata": {},
     "output_type": "execute_result"
    }
   ],
   "source": [
    "matrixB.reshape(9,1)"
   ]
  },
  {
   "cell_type": "code",
   "execution_count": 62,
   "id": "13e4ae7d",
   "metadata": {},
   "outputs": [
    {
     "data": {
      "text/plain": [
       "(tensor([[1, 2, 3],\n",
       "         [4, 5, 6],\n",
       "         [7, 8, 9]]),\n",
       " tensor([[1, 2, 3],\n",
       "         [4, 5, 6],\n",
       "         [7, 8, 9]]),\n",
       " torch.Size([3, 3]))"
      ]
     },
     "execution_count": 62,
     "metadata": {},
     "output_type": "execute_result"
    }
   ],
   "source": [
    "\n",
    "matrixA, matrixB, matrixA.shape"
   ]
  },
  {
   "cell_type": "code",
   "execution_count": 60,
   "id": "ce458da9",
   "metadata": {},
   "outputs": [
    {
     "data": {
      "text/plain": [
       "tensor([[[1, 2, 3],\n",
       "         [4, 5, 6],\n",
       "         [7, 8, 9]],\n",
       "\n",
       "        [[1, 2, 3],\n",
       "         [4, 5, 6],\n",
       "         [7, 8, 9]]])"
      ]
     },
     "execution_count": 60,
     "metadata": {},
     "output_type": "execute_result"
    }
   ],
   "source": [
    "torch.stack([matrixA, matrixB], dim=0)"
   ]
  },
  {
   "cell_type": "code",
   "execution_count": 77,
   "id": "3bc29267",
   "metadata": {},
   "outputs": [
    {
     "data": {
      "text/plain": [
       "(3,\n",
       " tensor([[[0., 0., 0., 0.],\n",
       "          [0., 0., 0., 0.],\n",
       "          [0., 0., 0., 0.]],\n",
       " \n",
       "         [[0., 0., 0., 0.],\n",
       "          [0., 0., 0., 0.],\n",
       "          [0., 0., 0., 0.]]]),\n",
       " torch.Size([2, 3, 4]))"
      ]
     },
     "execution_count": 77,
     "metadata": {},
     "output_type": "execute_result"
    }
   ],
   "source": [
    "x = torch.zeros(2,3,4)\n",
    "x.ndim, x, x.shape"
   ]
  },
  {
   "cell_type": "code",
   "execution_count": 69,
   "id": "60db623b",
   "metadata": {},
   "outputs": [],
   "source": [
    "y = torch.ones(2,3,4)"
   ]
  },
  {
   "cell_type": "code",
   "execution_count": 80,
   "id": "0598d721",
   "metadata": {},
   "outputs": [
    {
     "data": {
      "text/plain": [
       "(tensor([[[[0., 0., 0., 0.],\n",
       "           [0., 0., 0., 0.],\n",
       "           [0., 0., 0., 0.]],\n",
       " \n",
       "          [[0., 0., 0., 0.],\n",
       "           [0., 0., 0., 0.],\n",
       "           [0., 0., 0., 0.]]],\n",
       " \n",
       " \n",
       "         [[[1., 1., 1., 1.],\n",
       "           [1., 1., 1., 1.],\n",
       "           [1., 1., 1., 1.]],\n",
       " \n",
       "          [[1., 1., 1., 1.],\n",
       "           [1., 1., 1., 1.],\n",
       "           [1., 1., 1., 1.]]]]),\n",
       " torch.Size([2, 2, 3, 4]),\n",
       " 4)"
      ]
     },
     "execution_count": 80,
     "metadata": {},
     "output_type": "execute_result"
    }
   ],
   "source": [
    "new_x = torch.stack([x,y],dim=0)\n",
    "new_x, new_x.shape, new_x.ndim"
   ]
  },
  {
   "cell_type": "code",
   "execution_count": 84,
   "id": "4fd9f0b3",
   "metadata": {},
   "outputs": [
    {
     "data": {
      "text/plain": [
       "(tensor([[[[0., 0., 0., 0.],\n",
       "           [0., 0., 0., 0.],\n",
       "           [0., 0., 0., 0.]],\n",
       " \n",
       "          [[1., 1., 1., 1.],\n",
       "           [1., 1., 1., 1.],\n",
       "           [1., 1., 1., 1.]]],\n",
       " \n",
       " \n",
       "         [[[0., 0., 0., 0.],\n",
       "           [0., 0., 0., 0.],\n",
       "           [0., 0., 0., 0.]],\n",
       " \n",
       "          [[1., 1., 1., 1.],\n",
       "           [1., 1., 1., 1.],\n",
       "           [1., 1., 1., 1.]]]]),\n",
       " torch.Size([2, 2, 3, 4]),\n",
       " 4)"
      ]
     },
     "execution_count": 84,
     "metadata": {},
     "output_type": "execute_result"
    }
   ],
   "source": [
    "new_x = torch.stack([x,y],dim=1)\n",
    "new_x, new_x.shape, new_x.ndim"
   ]
  },
  {
   "cell_type": "code",
   "execution_count": 82,
   "id": "903c114e",
   "metadata": {},
   "outputs": [
    {
     "data": {
      "text/plain": [
       "(tensor([[[[0., 0., 0., 0.],\n",
       "           [1., 1., 1., 1.]],\n",
       " \n",
       "          [[0., 0., 0., 0.],\n",
       "           [1., 1., 1., 1.]],\n",
       " \n",
       "          [[0., 0., 0., 0.],\n",
       "           [1., 1., 1., 1.]]],\n",
       " \n",
       " \n",
       "         [[[0., 0., 0., 0.],\n",
       "           [1., 1., 1., 1.]],\n",
       " \n",
       "          [[0., 0., 0., 0.],\n",
       "           [1., 1., 1., 1.]],\n",
       " \n",
       "          [[0., 0., 0., 0.],\n",
       "           [1., 1., 1., 1.]]]]),\n",
       " torch.Size([2, 3, 2, 4]),\n",
       " 4)"
      ]
     },
     "execution_count": 82,
     "metadata": {},
     "output_type": "execute_result"
    }
   ],
   "source": [
    "new_x = torch.stack([x,y],dim=2)\n",
    "new_x, new_x.shape, new_x.ndim"
   ]
  },
  {
   "cell_type": "code",
   "execution_count": null,
   "id": "4f4443f3",
   "metadata": {},
   "outputs": [],
   "source": []
  }
 ],
 "metadata": {
  "kernelspec": {
   "display_name": "myenv",
   "language": "python",
   "name": "python3"
  },
  "language_info": {
   "codemirror_mode": {
    "name": "ipython",
    "version": 3
   },
   "file_extension": ".py",
   "mimetype": "text/x-python",
   "name": "python",
   "nbconvert_exporter": "python",
   "pygments_lexer": "ipython3",
   "version": "3.13.3"
  }
 },
 "nbformat": 4,
 "nbformat_minor": 5
}
