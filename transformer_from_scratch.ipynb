{
 "cells": [
  {
   "cell_type": "markdown",
   "id": "990ffdd9",
   "metadata": {},
   "source": [
    "# 0. Import important libraris (modules)"
   ]
  },
  {
   "cell_type": "code",
   "execution_count": 4,
   "id": "354ccc12",
   "metadata": {},
   "outputs": [
    {
     "name": "stdout",
     "output_type": "stream",
     "text": [
      "2.8.0+cpu\n"
     ]
    }
   ],
   "source": [
    "import torch\n",
    "print(torch.__version__)"
   ]
  },
  {
   "cell_type": "code",
   "execution_count": 5,
   "id": "6d94ce7d",
   "metadata": {},
   "outputs": [],
   "source": [
    "import torch.nn as nn\n",
    "from torch.utils.data import DataLoader, Dataset, random_split\n",
    "from torch.utils.tensorboard import SummaryWriter\n",
    "# Math\n",
    "import math\n",
    "# Huggingface libraries\n",
    "from datasets import load_dataset\n",
    "from tokenizers import Tokenizer\n",
    "from tokenizers.models import WordLevel\n",
    "from tokenizers.trainers import WordLevelTrainer\n",
    "from tokenizers.pre_tokenizers import Whitespace\n",
    "# Pathlib\n",
    "from pathlib import Path\n",
    "# Typing\n",
    "from typing import  Any\n",
    "# Library that progress bars in loops\n",
    "from tqdm import tqdm\n",
    "# Importing library of warnings\n",
    "import warnings\n"
   ]
  },
  {
   "cell_type": "markdown",
   "id": "4e8ae2b4",
   "metadata": {},
   "source": [
    "## 1. Input Embedding\n"
   ]
  },
  {
   "cell_type": "markdown",
   "id": "1207d83c",
   "metadata": {},
   "source": [
    "English sentence:\n",
    "The animal didn't cross the street because it was too tired\n"
   ]
  },
  {
   "cell_type": "markdown",
   "id": "03ee63aa",
   "metadata": {},
   "source": [
    "**Tokens**\n",
    "\n",
    "The, animal, didn't, cross, the, street, because, it, was, too, tired\n"
   ]
  },
  {
   "cell_type": "markdown",
   "id": "627dc149",
   "metadata": {},
   "source": [
    "**Vocabulary**\n",
    "\n",
    "the=0, animal=1, didn't=2, cross=3, street=4, because=5, it=6, was=7, too=8, tired=9"
   ]
  },
  {
   "cell_type": "markdown",
   "id": "b951273e",
   "metadata": {},
   "source": [
    "0,1,2,3,0,4,5,6,7,8,9"
   ]
  },
  {
   "cell_type": "code",
   "execution_count": 6,
   "id": "629c64f0",
   "metadata": {},
   "outputs": [],
   "source": [
    "class InputEmbedding(nn.Module):\n",
    "    def __init__(self, d_model: int, vocab_size: int):\n",
    "        super().__init__()\n",
    "        self.d_model = d_model\n",
    "        self.vocab_size = vocab_size\n",
    "        self.embedding = nn.Embedding(vocab_size, d_model)\n",
    "        \n",
    "    def forward(self, x: torch.Tensor) -> torch.Tensor:\n",
    "        return self.embedding(x) * math.sqrt(self.d_model)    "
   ]
  },
  {
   "cell_type": "markdown",
   "id": "28be5d18",
   "metadata": {},
   "source": [
    "## Positional Encoding"
   ]
  },
  {
   "cell_type": "code",
   "execution_count": 7,
   "id": "436f1fff",
   "metadata": {},
   "outputs": [],
   "source": [
    "class PositionalEncoding(nn.Module):\n",
    "    def __init__(self, d_model: int, seq_len: int, dropout: float):\n",
    "        super().__init__()\n",
    "        self.d_model = d_model\n",
    "        self.seq_len = seq_len\n",
    "        self.dropout = nn.Dropout(dropout)\n",
    "\n",
    "        # Create a matrix of shape (seq_len, d_model) to hold the positional encodings\n",
    "        pe = torch.zeros(seq_len, d_model)#\n",
    "        position = torch.arrange(0, seq_len, dtype=torch.float).unsqueeze(1) \n",
    "        div_term = torch.exp(torch.arange(0, d_model, 2).float() * (-math.log(10000.0) / d_model))\n",
    "        pe[:, 0::2] = torch.sin(position * div_term)\n",
    "        pe[:, 1::2] = torch.cos(position * div_term)\n",
    "        pe = pe.unsqueeze(0)\n",
    "        self.register_buffer('pe', pe)\n",
    "\n",
    "    def forward(self, x: torch.Tensor) -> torch.Tensor:  # (batch_size, seq_len, d_model)\n",
    "        x = x + self.pe[:, :x.shape[1], :].requires_grad_(False) # (1, seq_len, d_model)\n",
    "        return self.dropout(x)"
   ]
  },
  {
   "cell_type": "markdown",
   "id": "51f13634",
   "metadata": {},
   "source": [
    "## MultiHead Attention (self attention)"
   ]
  },
  {
   "cell_type": "code",
   "execution_count": 8,
   "id": "e3b4ebaf",
   "metadata": {},
   "outputs": [],
   "source": [
    "class MultiHeadAttention(nn.Module):\n",
    "    def __init__(self, d_model: int, h: int, dropout: float) -> None:\n",
    "        super().__init__()\n",
    "        self.d_model = d_model\n",
    "        self.h = h\n",
    "        assert d_model % h == 0, \"d_model must be divisible by h\"\n",
    "        d_k = d_model // h\n",
    "        self.d_k = d_k\n",
    "        self.w_q = nn.Linear(d_model, d_model)\n",
    "        self.w_k = nn.Linear(d_model, d_model)\n",
    "        self.w_v = nn.Linear(d_model, d_model)\n",
    "        self.w_o = nn.Linear(d_model, d_model)\n",
    "        self.dropout = nn.Dropout(dropout)\n",
    "\n",
    "    @staticmethod\n",
    "    def attention(query: torch.Tensor, key: torch.Tensor, value: torch.Tensor, mask: Any = None, dropout: Any = None):\n",
    "        d_k = query.size(-1)\n",
    "        scores = (query @ key.transpose(-2, -1)) / math.sqrt(d_k) \n",
    "        if mask is not None:\n",
    "            scores = scores.masked_fill(mask == 0, -1e9)\n",
    "        scores = scores.softmax(dim=-1)   \n",
    "        if dropout is not None:\n",
    "            scores = dropout(scores) \n",
    "        return (scores @ value), scores   \n",
    "\n",
    "    def forward(self, query: torch.Tensor, key: torch.Tensor, value: torch.Tensor, mask: Any = None):\n",
    "        query = self.w_q(query)  # (batch_size, seq_len, d_model)\n",
    "        key = self.w_k(key)      # (batch_size, seq_len, d_model)\n",
    "        value = self.w_v(value)\n",
    "        query = query.view(query.shape[0], query.shape[1], self.h, self.d_k).transpose(1, 2)  # (batch_size, h, seq_len, d_k)\n",
    "        key = key.view(key.shape[0], key.shape[1], self.h, self.d_k).transpose(1, 2)      \n",
    "        value = value.view(value.shape[0], value.shape[1], self.h, self.d_k).transpose(1, 2)\n",
    "        X, self.scores = MultiHeadAttention.attention(query, key, value, mask, self.dropout)  # (batch_size, h, seq_len, d_k)\n",
    "        X = X.transpose(1, 2).contiguous().view(X.shape[0], -1, self.h * self.d_k)\n",
    "        return self.w_o(X)"
   ]
  },
  {
   "cell_type": "markdown",
   "id": "8ffb6cc5",
   "metadata": {},
   "source": [
    "## Layer Normalisation"
   ]
  },
  {
   "cell_type": "code",
   "execution_count": 9,
   "id": "bdda5d74",
   "metadata": {},
   "outputs": [],
   "source": [
    "class LayerNorm(nn.Module):\n",
    "    def __init__(self, eps: float = 1e-6):\n",
    "        super().__init__()\n",
    "        self.eps = eps\n",
    "        self.alpha = nn.Parameter(torch.ones(1))\n",
    "        self.beta = nn.Parameter(torch.zeros(1))\n",
    "\n",
    "    def forward(self, x: torch.Tensor):\n",
    "        mean = x.mean(-1, keepdim=True)\n",
    "        std = x.std(-1, keepdim=True)\n",
    "        return self.alpha * (x-mean) / (std + self.eps) + self.beta \n",
    "    "
   ]
  },
  {
   "cell_type": "markdown",
   "id": "e71233ba",
   "metadata": {},
   "source": [
    "## Feed Forward Network\n"
   ]
  },
  {
   "cell_type": "markdown",
   "id": "8384ef9d",
   "metadata": {},
   "source": [
    "This consists of two linear transformation with a Relu activation in bettween.\n",
    "\n",
    "**FFN(x) = max(0, xW1 + b1)W2 + b2**\n",
    "\n",
    "input = 512 and output = 512"
   ]
  },
  {
   "cell_type": "code",
   "execution_count": 10,
   "id": "cb61c46c",
   "metadata": {},
   "outputs": [],
   "source": [
    "class FeedForward(nn.Module):\n",
    "    def __init__(self, d_model: int, d_ff: int, dropout: float):\n",
    "        super().__init__()\n",
    "        self.linear1 = nn.Linear(d_model, d_ff)\n",
    "        self.dropout = nn.Dropout(dropout)\n",
    "        self.linear2 = nn.Linear(d_ff, d_model)\n",
    "\n",
    "    def forward(self, x: torch.Tensor) -> torch.Tensor:\n",
    "        return self.linear2(self.dropout(torch.relu(self.linear1(x))))"
   ]
  },
  {
   "cell_type": "markdown",
   "id": "9cff5e7d",
   "metadata": {},
   "source": [
    "## Residual Connection"
   ]
  },
  {
   "cell_type": "code",
   "execution_count": 11,
   "id": "43e6e96a",
   "metadata": {},
   "outputs": [],
   "source": [
    "class ResidualConnection(nn.Module):\n",
    "    def __init__(self, size: int, dropout: float):\n",
    "        super().__init__()\n",
    "        self.norm = LayerNorm()\n",
    "        self.dropout = nn.Dropout(dropout)\n",
    "\n",
    "    def forward(self, x: torch.Tensor, sublayer: Any) -> torch.Tensor:\n",
    "        return x + self.dropout(sublayer(self.norm(x)))"
   ]
  },
  {
   "cell_type": "markdown",
   "id": "4e5e9b44",
   "metadata": {},
   "source": [
    "## Encoder"
   ]
  },
  {
   "cell_type": "markdown",
   "id": "b7fdc3e0",
   "metadata": {},
   "source": [
    "stack of N = 6 identical layers\n",
    "\n",
    "Each layer has two sub-layers\n",
    "\n",
    "d_model=512"
   ]
  },
  {
   "cell_type": "code",
   "execution_count": 13,
   "id": "152af59b",
   "metadata": {},
   "outputs": [],
   "source": [
    "class EncoderBlock(nn.Module):\n",
    "    def __init__(self, self_attn_block: MultiHeadAttention, feed_forward_block: FeedForward, dropout: float):\n",
    "        super().__init__()\n",
    "        self.self_attn_block = self_attn_block\n",
    "        self.feed_forward_block = feed_forward_block\n",
    "        self.residual_connection = nn.ModuleList([ResidualConnection(dropout) for _ in range(2)])\n",
    "\n",
    "    def forward(self, x: torch.Tensor, src_mask: Any) -> torch.Tensor:\n",
    "        x = self.residual_connection[0](x, lambda x: self.self_attn_block(x, x, x, src_mask))\n",
    "        return self.residual_connection[1](x, self.feed_forward_block)"
   ]
  },
  {
   "cell_type": "code",
   "execution_count": 12,
   "id": "ec87d110",
   "metadata": {},
   "outputs": [],
   "source": [
    "class Encoder(nn.Module):\n",
    "    def __init__(self, layers:nn.ModuleList,):\n",
    "        super().__init__()\n",
    "        self.layers = layers\n",
    "        self.norm = LayerNorm()\n",
    "    def forward(self, x, mask):\n",
    "        for layer in self.layers:\n",
    "            x = layer(x, mask)\n",
    "        return self.norm(x)"
   ]
  },
  {
   "cell_type": "code",
   "execution_count": null,
   "id": "4f986462",
   "metadata": {},
   "outputs": [],
   "source": []
  }
 ],
 "metadata": {
  "kernelspec": {
   "display_name": "myenv",
   "language": "python",
   "name": "python3"
  },
  "language_info": {
   "codemirror_mode": {
    "name": "ipython",
    "version": 3
   },
   "file_extension": ".py",
   "mimetype": "text/x-python",
   "name": "python",
   "nbconvert_exporter": "python",
   "pygments_lexer": "ipython3",
   "version": "3.13.3"
  }
 },
 "nbformat": 4,
 "nbformat_minor": 5
}
