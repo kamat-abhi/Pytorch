{
 "cells": [
  {
   "cell_type": "markdown",
   "id": "990ffdd9",
   "metadata": {},
   "source": [
    "# 0. Import important libraris (modules)"
   ]
  },
  {
   "cell_type": "code",
   "execution_count": 2,
   "id": "354ccc12",
   "metadata": {},
   "outputs": [
    {
     "name": "stdout",
     "output_type": "stream",
     "text": [
      "2.8.0+cpu\n"
     ]
    }
   ],
   "source": [
    "import torch\n",
    "print(torch.__version__)"
   ]
  },
  {
   "cell_type": "code",
   "execution_count": 6,
   "id": "6d94ce7d",
   "metadata": {},
   "outputs": [],
   "source": [
    "import torch.nn as nn\n",
    "from torch.utils.data import DataLoader, Dataset, random_split\n",
    "from torch.utils.tensorboard import SummaryWriter\n",
    "# Math\n",
    "import math\n",
    "# Huggingface libraries\n",
    "from datasets import load_dataset\n",
    "from tokenizers import Tokenizer\n",
    "from tokenizers.models import WordLevel\n",
    "from tokenizers.trainers import WordLevelTrainer\n",
    "from tokenizers.pre_tokenizers import Whitespace\n",
    "# Pathlib\n",
    "from pathlib import Path\n",
    "# Typing\n",
    "from typing import  Any\n",
    "# Library that progress bars in loops\n",
    "from tqdm import tqdm\n",
    "# Importing library of warnings\n",
    "import warnings\n"
   ]
  },
  {
   "cell_type": "markdown",
   "id": "4e8ae2b4",
   "metadata": {},
   "source": [
    "## 1. Input Embedding\n"
   ]
  },
  {
   "cell_type": "markdown",
   "id": "1207d83c",
   "metadata": {},
   "source": [
    "English sentence:\n",
    "The animal didn't cross the street because it was too tired\n"
   ]
  },
  {
   "cell_type": "markdown",
   "id": "03ee63aa",
   "metadata": {},
   "source": [
    "**Tokens**\n",
    "\n",
    "The, animal, didn't, cross, the, street, because, it, was, too, tired\n"
   ]
  },
  {
   "cell_type": "markdown",
   "id": "627dc149",
   "metadata": {},
   "source": [
    "**Vocabulary**\n",
    "\n",
    "the=0, animal=1, didn't=2, cross=3, street=4, because=5, it=6, was=7, too=8, tired=9"
   ]
  },
  {
   "cell_type": "markdown",
   "id": "b951273e",
   "metadata": {},
   "source": [
    "0,1,2,3,0,4,5,6,7,8,9"
   ]
  },
  {
   "cell_type": "code",
   "execution_count": 7,
   "id": "629c64f0",
   "metadata": {},
   "outputs": [],
   "source": [
    "class InputEmbedding(nn.Module):\n",
    "    def __init__(self, d_model: int, vocab_size: int):\n",
    "        super().__init__()\n",
    "        self.d_model = d_model\n",
    "        self.vocab_size = vocab_size\n",
    "        self.embedding = nn.Embedding(vocab_size, d_model)\n",
    "        \n",
    "    def forward(self, x: torch.Tensor) -> torch.Tensor:\n",
    "        return self.embedding(x) * math.sqrt(self.d_model)    "
   ]
  },
  {
   "cell_type": "markdown",
   "id": "6bf63746",
   "metadata": {},
   "source": []
  }
 ],
 "metadata": {
  "kernelspec": {
   "display_name": "myenv",
   "language": "python",
   "name": "python3"
  },
  "language_info": {
   "codemirror_mode": {
    "name": "ipython",
    "version": 3
   },
   "file_extension": ".py",
   "mimetype": "text/x-python",
   "name": "python",
   "nbconvert_exporter": "python",
   "pygments_lexer": "ipython3",
   "version": "3.13.3"
  }
 },
 "nbformat": 4,
 "nbformat_minor": 5
}
